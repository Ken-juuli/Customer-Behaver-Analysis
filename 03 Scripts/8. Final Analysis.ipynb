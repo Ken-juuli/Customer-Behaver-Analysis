{
 "cells": [
  {
   "cell_type": "markdown",
   "metadata": {},
   "source": [
    "Content\n",
    "\n",
    "1.  Import data set\n",
    "\n",
    "2.  Consider any security implications that might exist for this new data. You’ll need to address any PII data in the data before         continuing your analysis.\n",
    "\n",
    "3.1 Create a regional segmentation of the data. You’ll need to create a “Region” column based on the “State” column from your         customers data set.\n",
    "\n",
    "3.2 Determine whether there’s a difference in spending habits between the different U.S. regions. \n",
    "\n",
    "4.  Create an exclusion flag for low-activity customers (customers with less than 5 orders) and exclude them from the data. Make sure       you export this sample.\n",
    "\n",
    "5.  Create a profiling variable based on age, income, certain goods in the “department_id” column, and number of dependants.\n",
    "\n",
    "6.  Create an appropriate visualization to show the distribution of profiles.\n",
    "\n",
    "7.1 Aggregate the max, mean, and min variables on a customer-profile level for usage frequency.\n",
    "\n",
    "7.2 Aggregate the max, mean, and min variables on a customer-profile level for expenditure.\n",
    "\n",
    "8.  Compare your customer profiles with regions and departments. Can you identify a link between them? Customers may demonstrate           different behaviors across regions, which could make this information important."
   ]
  },
  {
   "cell_type": "code",
   "execution_count": 1,
   "metadata": {},
   "outputs": [],
   "source": [
    "# import library\n",
    "import pandas as pd\n",
    "import numpy as np\n",
    "import os\n",
    "import matplotlib.pyplot as plt\n",
    "import seaborn as sns\n",
    "import scipy"
   ]
  },
  {
   "cell_type": "markdown",
   "metadata": {},
   "source": [
    "# 1. Import data set"
   ]
  },
  {
   "cell_type": "code",
   "execution_count": 2,
   "metadata": {},
   "outputs": [],
   "source": [
    "customer_merged = pd.read_pickle(r'D:\\ドキュメント\\Jupyter\\CareerFoundry Achievement 4\\02 Data\\Prepared Data\\customer_merged_with_grouped.pkl')"
   ]
  },
  {
   "cell_type": "code",
   "execution_count": 3,
   "metadata": {},
   "outputs": [],
   "source": [
    "# show all column\n",
    "pd.set_option('display.max_columns', 50)"
   ]
  },
  {
   "cell_type": "markdown",
   "metadata": {},
   "source": [
    "#  2. Consider any security implications that might exist for this new data. You’ll need to address any PII data in the data before continuing your analysis.\n",
    "\n",
    "PII data: First Name, Surname, Gender"
   ]
  },
  {
   "cell_type": "code",
   "execution_count": 4,
   "metadata": {},
   "outputs": [],
   "source": [
    "removed_pii = customer_merged.drop(columns = ['eval_set','_merge','First Name','Surnam','Gender'])"
   ]
  },
  {
   "cell_type": "markdown",
   "metadata": {},
   "source": [
    "# 3.1 Create a regional segmentation of the data. You’ll need to create a “Region” column based on the “State” column from your customers data set."
   ]
  },
  {
   "cell_type": "markdown",
   "metadata": {},
   "source": [
    "Region 1 = Maine, New Hampshire, Vermont, Massachusetts, Rhode Island, Connecticut, New York, Pennsylvania, New Jersey\n",
    "\n",
    "Region 2 = Wisconsin, Michigan, Illinois, Indiana, Ohio, North Dakota, South Dakota, Nebraska, Kansas, Minnesota, Iowa, Missouri\n",
    "\n",
    "Region 3 = Delaware, Maryland, District of Columbia, Virginia, West Virginia, North Carolina, South Carolina, Georgia, Florida, Kentucky, Tennessee, Mississippi, Alabama, Oklahoma, Texas, Arkansas, Louisiana\n",
    "\n",
    "Region 4 = Idaho, Montana, Wyoming, Nevada, Utah, Colorado, Arizona, New Mexico, Alaska, Washington, Oregon, California, Hawaii"
   ]
  },
  {
   "cell_type": "code",
   "execution_count": 5,
   "metadata": {},
   "outputs": [],
   "source": [
    "result = []\n",
    "# making new column for state flag\n",
    "for value in customer_merged[\"STATE\"]:\n",
    "    if (value == \"Maine\" or value==\"New Hampshire\" or value==\"Vermont\" or value==\"Massachusetts\" or value==\"Rhode Island\" or value==\"Connecticut\" or value==\"New York\" or value==\"Pennsylvania\" or value==\"New Jersey\"):\n",
    "        result.append(\"Northeast\")\n",
    "    elif (value == \"Wisconsin\" or value==\"Michigan\" or value==\"Illinois\" or value==\"Indiana\" or value==\"Ohio\" or value==\"North Dakota\" or value==\"South Dakota\" or value==\"Nebraska\" or value==\"Kansas\" or value==\"Minnesota\" or value==\"Iowa\" or value==\"Missouri\"):\n",
    "        result.append(\"Midwest\")\n",
    "    elif (value == \"Delaware\" or value== \"Maryland\" or value== \"District of Columbia\" or value== \"Virginia\" or value== \"West Virginia\" or value== \"North Carolina\" or value== \"South Carolina\" or value== \"Georgia\" or value== \"Florida\" or value== \"Kentucky\" or value== \"Tennessee\" or value== \"Mississippi\" or value== \"Alabama\" or value== \"Oklahoma\" or value== \"Texas\" or value== \"Arkansas\" or value== \"Louisiana\"):\n",
    "        result.append(\"South\")\n",
    "    elif (value == \"Idaho\" or value== \"Montana\" or value== \"Wyoming\" or value== \"Nevada\" or value== \"Utah\" or value== \"Colorado\" or value== \"Arizona\" or value== \"New Mexico\" or value== \"Alaska\" or value== \"Washington\" or value== \"Oregon\" or value== \"California\" or value== \"Hawaii\"):\n",
    "        result.append(\"West\")\n",
    "    else:\n",
    "        result.append(\"Not Enough Data\")\n",
    "\n",
    "removed_pii['Country_Region'] = result"
   ]
  },
  {
   "cell_type": "code",
   "execution_count": 6,
   "metadata": {},
   "outputs": [
    {
     "data": {
      "text/plain": [
       "South        10801982\n",
       "West          8300617\n",
       "Midwest       7604016\n",
       "Northeast     5728444\n",
       "Name: Country_Region, dtype: int64"
      ]
     },
     "execution_count": 6,
     "metadata": {},
     "output_type": "execute_result"
    }
   ],
   "source": [
    "# count number of country regions\n",
    "removed_pii['Country_Region'].value_counts(dropna = False)"
   ]
  },
  {
   "cell_type": "markdown",
   "metadata": {},
   "source": [
    "# 3.2 Determine whether there’s a difference in spending habits between the different U.S. regions. "
   ]
  },
  {
   "cell_type": "code",
   "execution_count": 9,
   "metadata": {},
   "outputs": [
    {
     "data": {
      "image/png": "[encoded data removed]",
      "text/plain": [
       "<Figure size 432x288 with 1 Axes>"
      ]
     },
     "metadata": {
      "needs_background": "light"
     },
     "output_type": "display_data"
    }
   ],
   "source": [
    "# compare when they use the shop in a week by regions\n",
    "crosstab_3 = pd.crosstab(removed_pii['Country_Region'], removed_pii['busiest_days'],normalize=\"index\")\n",
    "ax = plt.subplot()\n",
    "crosstab_3.plot.bar(stacked=True, color=['darkgreen','green','lightgreen'], ax=ax)\n",
    "ax.set_ylabel('Country_Region')\n",
    "plt.show()\n",
    "ax.figure.savefig(r'D:\\ドキュメント\\Jupyter\\CareerFoundry Achievement 4\\04 Analysis\\Visualizations\\region_habit1.png',bbox_inches=\"tight\")"
   ]
  },
  {
   "cell_type": "markdown",
   "metadata": {},
   "source": [
    "## There is no difference in spending habits between the different U.S. regions. "
   ]
  },
  {
   "cell_type": "code",
   "execution_count": 12,
   "metadata": {},
   "outputs": [
    {
     "data": {
      "image/png": "[encoded data removed]",
      "text/plain": [
       "<Figure size 432x288 with 1 Axes>"
      ]
     },
     "metadata": {
      "needs_background": "light"
     },
     "output_type": "display_data"
    }
   ],
   "source": [
    "# compare when people use the shop in a day by regions\n",
    "crosstab_6 = pd.crosstab(removed_pii['Country_Region'], removed_pii['busy_time'],normalize=\"index\")\n",
    "ax = plt.subplot()\n",
    "crosstab_6.plot.bar(stacked=True, color=['green','lightgreen','darkgreen'], ax=ax)\n",
    "ax.set_ylabel('Country_Region')\n",
    "plt.show()\n",
    "ax.figure.savefig(r'D:\\ドキュメント\\Jupyter\\CareerFoundry Achievement 4\\04 Analysis\\Visualizations\\region_habit_time1.png',bbox_inches=\"tight\")"
   ]
  },
  {
   "cell_type": "markdown",
   "metadata": {},
   "source": [
    "## There is no difference in spending habits between the different U.S. regions. "
   ]
  },
  {
   "cell_type": "markdown",
   "metadata": {},
   "source": [
    "# 4. Create an exclusion flag for low-activity customers (customers with less than 5 orders) and exclude them from the data. Make sure you export this sample."
   ]
  },
  {
   "cell_type": "code",
   "execution_count": 13,
   "metadata": {},
   "outputs": [],
   "source": [
    "# making new column for activity flag\n",
    "removed_pii.loc[customer_merged['max_order'] < 5, 'low activity flag'] = 'low-activity customer'\n",
    "removed_pii.loc[customer_merged['max_order'] >= 5, 'low activity flag'] = 'active_customer' "
   ]
  },
  {
   "cell_type": "code",
   "execution_count": 14,
   "metadata": {},
   "outputs": [
    {
     "data": {
      "text/plain": [
       "active_customer          30993489\n",
       "low-activity customer     1441570\n",
       "Name: low activity flag, dtype: int64"
      ]
     },
     "execution_count": 14,
     "metadata": {},
     "output_type": "execute_result"
    }
   ],
   "source": [
    "removed_pii['low activity flag'].value_counts(dropna = False)"
   ]
  },
  {
   "cell_type": "code",
   "execution_count": 15,
   "metadata": {},
   "outputs": [],
   "source": [
    "# remove low-activity customer\n",
    "all_order = removed_pii.loc[removed_pii['low activity flag'] == 'active_customer']"
   ]
  },
  {
   "cell_type": "code",
   "execution_count": 16,
   "metadata": {},
   "outputs": [],
   "source": [
    "# save the exclude version of data set\n",
    "all_order.to_pickle(r'D:\\ドキュメント\\Jupyter\\CareerFoundry Achievement 4\\02 Data\\Prepared Data\\q_5_all_order.pkl')"
   ]
  },
  {
   "cell_type": "markdown",
   "metadata": {},
   "source": [
    "# 5.Create a profiling variable based on age, income, certain goods in the “department_id” column, and number of dependants."
   ]
  },
  {
   "cell_type": "code",
   "execution_count": 17,
   "metadata": {},
   "outputs": [
    {
     "name": "stderr",
     "output_type": "stream",
     "text": [
      "<ipython-input-17-c037934508ab>:17: SettingWithCopyWarning: \n",
      "A value is trying to be set on a copy of a slice from a DataFrame.\n",
      "Try using .loc[row_indexer,col_indexer] = value instead\n",
      "\n",
      "See the caveats in the documentation: https://pandas.pydata.org/pandas-docs/stable/user_guide/indexing.html#returning-a-view-versus-a-copy\n",
      "  all_order['Customer_Category'] = all_order.apply(customer_label, axis=1)\n"
     ]
    }
   ],
   "source": [
    "def customer_label(row):\n",
    "# Create New Column for customer category\n",
    "  if (row['Age'] < 35) and (row['Number_of_dependents'] == 0):\n",
    "    return 'Young adult'\n",
    "  elif (row['Age'] < 35) and (row['Number_of_dependents'] >= 1):\n",
    "    return 'Young parent'\n",
    "  elif (row['Age'] >= 35) and (row['Age'] < 55) and (row['Number_of_dependents'] == 0):\n",
    "    return 'Middle Adult'\n",
    "  elif (row['Age'] >= 35) and (row['Age'] < 55) and (row['Number_of_dependents'] >= 1):\n",
    "    return 'Middle Age Parent'\n",
    "  elif (row['Age'] >= 55) and (row['Number_of_dependents'] == 0):\n",
    "    return 'Old Adult'\n",
    "  elif (row['Age'] >= 55) and (row['Number_of_dependents'] >= 1):\n",
    "    return 'Old Age Parent'\n",
    "  else: return 'Not enough data'\n",
    "    \n",
    "all_order['Customer_Category'] = all_order.apply(customer_label, axis=1)"
   ]
  },
  {
   "cell_type": "code",
   "execution_count": 18,
   "metadata": {},
   "outputs": [
    {
     "data": {
      "text/plain": [
       "Old Age Parent       9733045\n",
       "Middle Age Parent    7328810\n",
       "Young parent         6184451\n",
       "Old Adult            3277106\n",
       "Middle Adult         2404509\n",
       "Young adult          2065568\n",
       "Name: Customer_Category, dtype: int64"
      ]
     },
     "execution_count": 18,
     "metadata": {},
     "output_type": "execute_result"
    }
   ],
   "source": [
    "all_order['Customer_Category'].value_counts()"
   ]
  },
  {
   "cell_type": "code",
   "execution_count": 19,
   "metadata": {},
   "outputs": [
    {
     "name": "stderr",
     "output_type": "stream",
     "text": [
      "<ipython-input-19-22f945d7e223>:11: SettingWithCopyWarning: \n",
      "A value is trying to be set on a copy of a slice from a DataFrame.\n",
      "Try using .loc[row_indexer,col_indexer] = value instead\n",
      "\n",
      "See the caveats in the documentation: https://pandas.pydata.org/pandas-docs/stable/user_guide/indexing.html#returning-a-view-versus-a-copy\n",
      "  all_order['income_range'] = all_order.apply(income_label, axis=1)\n"
     ]
    }
   ],
   "source": [
    "def income_label(row):\n",
    "# create new column for income rage\n",
    "  if (row['income'] < 70000):\n",
    "    return 'Lower_income'\n",
    "  elif (row['income'] >= 70000) and (row['income'] <= 120000):\n",
    "    return 'Middle_income'\n",
    "  elif (row['income'] > 120000):\n",
    "    return 'higher_income'\n",
    "  else: return 'Not enough data'\n",
    "    \n",
    "all_order['income_range'] = all_order.apply(income_label, axis=1)"
   ]
  },
  {
   "cell_type": "code",
   "execution_count": 20,
   "metadata": {},
   "outputs": [
    {
     "data": {
      "text/plain": [
       "Middle_income    13276833\n",
       "higher_income     9187614\n",
       "Lower_income      8529042\n",
       "Name: income_range, dtype: int64"
      ]
     },
     "execution_count": 20,
     "metadata": {},
     "output_type": "execute_result"
    }
   ],
   "source": [
    "all_order['income_range'].value_counts()"
   ]
  },
  {
   "cell_type": "markdown",
   "metadata": {},
   "source": [
    "# 6. Create an appropriate visualization to show the distribution of profiles."
   ]
  },
  {
   "cell_type": "code",
   "execution_count": 21,
   "metadata": {},
   "outputs": [
    {
     "data": {
      "text/plain": [
       "<AxesSubplot:>"
      ]
     },
     "execution_count": 21,
     "metadata": {},
     "output_type": "execute_result"
    },
    {
     "data": {
      "image/png": "[encoded data removed]",
      "text/plain": [
       "<Figure size 432x288 with 1 Axes>"
      ]
     },
     "metadata": {
      "needs_background": "light"
     },
     "output_type": "display_data"
    }
   ],
   "source": [
    "all_order['Customer_Category'].value_counts().plot.bar()"
   ]
  },
  {
   "cell_type": "markdown",
   "metadata": {},
   "source": [
    "Old age parent has the highest number of order"
   ]
  },
  {
   "cell_type": "markdown",
   "metadata": {},
   "source": [
    "# 7.1 Aggregate the max, mean, and min variables on a customer-profile level for usage frequency."
   ]
  },
  {
   "cell_type": "code",
   "execution_count": 22,
   "metadata": {},
   "outputs": [
    {
     "data": {
      "text/html": [
       "<div>\n",
       "<style scoped>\n",
       "    .dataframe tbody tr th:only-of-type {\n",
       "        vertical-align: middle;\n",
       "    }\n",
       "\n",
       "    .dataframe tbody tr th {\n",
       "        vertical-align: top;\n",
       "    }\n",
       "\n",
       "    .dataframe thead tr th {\n",
       "        text-align: left;\n",
       "    }\n",
       "\n",
       "    .dataframe thead tr:last-of-type th {\n",
       "        text-align: right;\n",
       "    }\n",
       "</style>\n",
       "<table border=\"1\" class=\"dataframe\">\n",
       "  <thead>\n",
       "    <tr>\n",
       "      <th></th>\n",
       "      <th colspan=\"3\" halign=\"left\">days_since_prior_order</th>\n",
       "    </tr>\n",
       "    <tr>\n",
       "      <th></th>\n",
       "      <th>mean</th>\n",
       "      <th>max</th>\n",
       "      <th>min</th>\n",
       "    </tr>\n",
       "    <tr>\n",
       "      <th>Customer_Category</th>\n",
       "      <th></th>\n",
       "      <th></th>\n",
       "      <th></th>\n",
       "    </tr>\n",
       "  </thead>\n",
       "  <tbody>\n",
       "    <tr>\n",
       "      <th>Middle Adult</th>\n",
       "      <td>10.829452</td>\n",
       "      <td>30.0</td>\n",
       "      <td>0.0</td>\n",
       "    </tr>\n",
       "    <tr>\n",
       "      <th>Middle Age Parent</th>\n",
       "      <td>10.806823</td>\n",
       "      <td>30.0</td>\n",
       "      <td>0.0</td>\n",
       "    </tr>\n",
       "    <tr>\n",
       "      <th>Old Adult</th>\n",
       "      <td>10.731785</td>\n",
       "      <td>30.0</td>\n",
       "      <td>0.0</td>\n",
       "    </tr>\n",
       "    <tr>\n",
       "      <th>Old Age Parent</th>\n",
       "      <td>10.861811</td>\n",
       "      <td>30.0</td>\n",
       "      <td>0.0</td>\n",
       "    </tr>\n",
       "    <tr>\n",
       "      <th>Young adult</th>\n",
       "      <td>10.906971</td>\n",
       "      <td>30.0</td>\n",
       "      <td>0.0</td>\n",
       "    </tr>\n",
       "    <tr>\n",
       "      <th>Young parent</th>\n",
       "      <td>10.816133</td>\n",
       "      <td>30.0</td>\n",
       "      <td>0.0</td>\n",
       "    </tr>\n",
       "  </tbody>\n",
       "</table>\n",
       "</div>"
      ],
      "text/plain": [
       "                  days_since_prior_order           \n",
       "                                    mean   max  min\n",
       "Customer_Category                                  \n",
       "Middle Adult                   10.829452  30.0  0.0\n",
       "Middle Age Parent              10.806823  30.0  0.0\n",
       "Old Adult                      10.731785  30.0  0.0\n",
       "Old Age Parent                 10.861811  30.0  0.0\n",
       "Young adult                    10.906971  30.0  0.0\n",
       "Young parent                   10.816133  30.0  0.0"
      ]
     },
     "execution_count": 22,
     "metadata": {},
     "output_type": "execute_result"
    }
   ],
   "source": [
    "all_order.groupby('Customer_Category').agg({'days_since_prior_order': ['mean','max','min']})"
   ]
  },
  {
   "cell_type": "markdown",
   "metadata": {},
   "source": [
    "There is no specific diffrence between customer category interm of average of days since prior order"
   ]
  },
  {
   "cell_type": "markdown",
   "metadata": {},
   "source": [
    "# 7.2 Aggregate the max, mean, and min variables on a customer-profile level for expenditure."
   ]
  },
  {
   "cell_type": "code",
   "execution_count": 23,
   "metadata": {},
   "outputs": [
    {
     "data": {
      "text/html": [
       "<div>\n",
       "<style scoped>\n",
       "    .dataframe tbody tr th:only-of-type {\n",
       "        vertical-align: middle;\n",
       "    }\n",
       "\n",
       "    .dataframe tbody tr th {\n",
       "        vertical-align: top;\n",
       "    }\n",
       "\n",
       "    .dataframe thead tr th {\n",
       "        text-align: left;\n",
       "    }\n",
       "\n",
       "    .dataframe thead tr:last-of-type th {\n",
       "        text-align: right;\n",
       "    }\n",
       "</style>\n",
       "<table border=\"1\" class=\"dataframe\">\n",
       "  <thead>\n",
       "    <tr>\n",
       "      <th></th>\n",
       "      <th colspan=\"3\" halign=\"left\">Average_spending</th>\n",
       "    </tr>\n",
       "    <tr>\n",
       "      <th></th>\n",
       "      <th>mean</th>\n",
       "      <th>max</th>\n",
       "      <th>min</th>\n",
       "    </tr>\n",
       "    <tr>\n",
       "      <th>Customer_Category</th>\n",
       "      <th></th>\n",
       "      <th></th>\n",
       "      <th></th>\n",
       "    </tr>\n",
       "  </thead>\n",
       "  <tbody>\n",
       "    <tr>\n",
       "      <th>Middle Adult</th>\n",
       "      <td>12.488241</td>\n",
       "      <td>15006.940000</td>\n",
       "      <td>1.000000</td>\n",
       "    </tr>\n",
       "    <tr>\n",
       "      <th>Middle Age Parent</th>\n",
       "      <td>11.490561</td>\n",
       "      <td>6983.593023</td>\n",
       "      <td>1.000000</td>\n",
       "    </tr>\n",
       "    <tr>\n",
       "      <th>Old Adult</th>\n",
       "      <td>11.760842</td>\n",
       "      <td>14042.512281</td>\n",
       "      <td>1.308333</td>\n",
       "    </tr>\n",
       "    <tr>\n",
       "      <th>Old Age Parent</th>\n",
       "      <td>12.015565</td>\n",
       "      <td>7414.485185</td>\n",
       "      <td>1.262500</td>\n",
       "    </tr>\n",
       "    <tr>\n",
       "      <th>Young adult</th>\n",
       "      <td>12.190407</td>\n",
       "      <td>8794.882427</td>\n",
       "      <td>1.800000</td>\n",
       "    </tr>\n",
       "    <tr>\n",
       "      <th>Young parent</th>\n",
       "      <td>12.110755</td>\n",
       "      <td>10209.987755</td>\n",
       "      <td>1.628571</td>\n",
       "    </tr>\n",
       "  </tbody>\n",
       "</table>\n",
       "</div>"
      ],
      "text/plain": [
       "                  Average_spending                        \n",
       "                              mean           max       min\n",
       "Customer_Category                                         \n",
       "Middle Adult             12.488241  15006.940000  1.000000\n",
       "Middle Age Parent        11.490561   6983.593023  1.000000\n",
       "Old Adult                11.760842  14042.512281  1.308333\n",
       "Old Age Parent           12.015565   7414.485185  1.262500\n",
       "Young adult              12.190407   8794.882427  1.800000\n",
       "Young parent             12.110755  10209.987755  1.628571"
      ]
     },
     "execution_count": 23,
     "metadata": {},
     "output_type": "execute_result"
    }
   ],
   "source": [
    "all_order.groupby('Customer_Category').agg({'Average_spending': ['mean','max','min']})"
   ]
  },
  {
   "cell_type": "markdown",
   "metadata": {},
   "source": [
    "# 8.Compare your customer profiles with regions and departments. Can you identify a link between them? Customers may demonstrate different behaviors across regions, which could make this information important."
   ]
  },
  {
   "cell_type": "code",
   "execution_count": 24,
   "metadata": {},
   "outputs": [
    {
     "data": {
      "image/png": "[encoded data removed]",
      "text/plain": [
       "<Figure size 432x288 with 1 Axes>"
      ]
     },
     "metadata": {
      "needs_background": "light"
     },
     "output_type": "display_data"
    }
   ],
   "source": [
    "# compare weekly habit by customer categories\n",
    "crosstab_10 = pd.crosstab(all_order['Customer_Category'], all_order['busiest_days'], normalize=\"index\")\n",
    "ax = plt.subplot()\n",
    "crosstab_10.plot.bar(stacked=True, color=['indigo','darkviolet','violet'], ax=ax)\n",
    "ax.set_ylabel('Customer_Category')\n",
    "plt.show()\n",
    "ax.figure.savefig(r'D:\\ドキュメント\\Jupyter\\CareerFoundry Achievement 4\\04 Analysis\\Visualizations\\customer_habit1.png',bbox_inches=\"tight\")"
   ]
  },
  {
   "cell_type": "code",
   "execution_count": 25,
   "metadata": {},
   "outputs": [
    {
     "data": {
      "image/png": "[encoded data removed]",
      "text/plain": [
       "<Figure size 432x288 with 1 Axes>"
      ]
     },
     "metadata": {
      "needs_background": "light"
     },
     "output_type": "display_data"
    }
   ],
   "source": [
    "# compare weekly habit by regions\n",
    "ax = plt.subplot()\n",
    "crosstab_3.plot.bar(stacked=True, color=['darkgreen','green','lightgreen'], ax=ax)\n",
    "ax.set_ylabel('Country_Region')\n",
    "plt.show()\n",
    "ax.figure.savefig(r'D:\\ドキュメント\\Jupyter\\CareerFoundry Achievement 4\\04 Analysis\\Visualizations\\regions_habit.png',bbox_inches=\"tight\")"
   ]
  },
  {
   "cell_type": "code",
   "execution_count": 27,
   "metadata": {},
   "outputs": [
    {
     "data": {
      "image/png": "[encoded data removed]",
      "text/plain": [
       "<Figure size 432x288 with 1 Axes>"
      ]
     },
     "metadata": {
      "needs_background": "light"
     },
     "output_type": "display_data"
    }
   ],
   "source": [
    "# compare weekly habit by department\n",
    "crosstab_27 = pd.crosstab(all_order['department_id'], all_order['busiest_days'], normalize=\"index\")\n",
    "ax = plt.subplot()\n",
    "crosstab_27.plot.bar(stacked=True, color=['green','red','blue'], ax=ax)\n",
    "ax.set_ylabel('department_id')\n",
    "plt.show()\n",
    "ax.figure.savefig(r'D:\\ドキュメント\\Jupyter\\CareerFoundry Achievement 4\\04 Analysis\\Visualizations\\department_habit.png',bbox_inches=\"tight\")"
   ]
  },
  {
   "cell_type": "markdown",
   "metadata": {},
   "source": [
    "# The above three graphs show the difference of days of placing the order by customer category, regions and department. The percentage of days of placing order day is almost identical when comparing each customer category, regions and department. The portion of the order on busiest days are the highest. Regularly busy days and slowest days are following by."
   ]
  },
  {
   "cell_type": "code",
   "execution_count": 29,
   "metadata": {},
   "outputs": [],
   "source": [
    "# save the exclude version of data set\n",
    "all_order.to_pickle(r'D:\\ドキュメント\\Jupyter\\CareerFoundry Achievement 4\\02 Data\\Prepared Data\\all_order.pkl')"
   ]
  }
 ],
 "metadata": {
  "kernelspec": {
   "display_name": "Python 3",
   "language": "python",
   "name": "python3"
  },
  "language_info": {
   "codemirror_mode": {
    "name": "ipython",
    "version": 3
   },
   "file_extension": ".py",
   "mimetype": "text/x-python",
   "name": "python",
   "nbconvert_exporter": "python",
   "pygments_lexer": "ipython3",
   "version": "3.8.5"
  }
 },
 "nbformat": 4,
 "nbformat_minor": 4
}
